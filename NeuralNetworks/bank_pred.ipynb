{
 "cells": [
  {
   "cell_type": "markdown",
   "metadata": {},
   "source": [
    "# Installing Theano\n",
    "`` pip install --upgrade --no-deps git+git://github.com/Theano/Theano.git``\n",
    "\n",
    "# Installing Tensorflow\n",
    "``pip install tensorflow``\n",
    "\n",
    "# Installing Keras\n",
    "``pip install --upgrade keras``"
   ]
  },
  {
   "cell_type": "code",
   "execution_count": 1,
   "metadata": {
    "collapsed": true
   },
   "outputs": [],
   "source": [
    "# Part 1 - Data Preprocessing\n",
    "# Importing the libraries\n",
    "import numpy as np\n",
    "import matplotlib.pyplot as plt\n",
    "import pandas as pd"
   ]
  },
  {
   "cell_type": "code",
   "execution_count": 2,
   "metadata": {},
   "outputs": [
    {
     "data": {
      "text/html": [
       "<div>\n",
       "<style>\n",
       "    .dataframe thead tr:only-child th {\n",
       "        text-align: right;\n",
       "    }\n",
       "\n",
       "    .dataframe thead th {\n",
       "        text-align: left;\n",
       "    }\n",
       "\n",
       "    .dataframe tbody tr th {\n",
       "        vertical-align: top;\n",
       "    }\n",
       "</style>\n",
       "<table border=\"1\" class=\"dataframe\">\n",
       "  <thead>\n",
       "    <tr style=\"text-align: right;\">\n",
       "      <th></th>\n",
       "      <th>RowNumber</th>\n",
       "      <th>CustomerId</th>\n",
       "      <th>Surname</th>\n",
       "      <th>CreditScore</th>\n",
       "      <th>Geography</th>\n",
       "      <th>Gender</th>\n",
       "      <th>Age</th>\n",
       "      <th>Tenure</th>\n",
       "      <th>Balance</th>\n",
       "      <th>NumOfProducts</th>\n",
       "      <th>HasCrCard</th>\n",
       "      <th>IsActiveMember</th>\n",
       "      <th>EstimatedSalary</th>\n",
       "      <th>Exited</th>\n",
       "    </tr>\n",
       "  </thead>\n",
       "  <tbody>\n",
       "    <tr>\n",
       "      <th>0</th>\n",
       "      <td>1</td>\n",
       "      <td>15634602</td>\n",
       "      <td>Hargrave</td>\n",
       "      <td>619</td>\n",
       "      <td>France</td>\n",
       "      <td>Female</td>\n",
       "      <td>42</td>\n",
       "      <td>2</td>\n",
       "      <td>0.00</td>\n",
       "      <td>1</td>\n",
       "      <td>1</td>\n",
       "      <td>1</td>\n",
       "      <td>101348.88</td>\n",
       "      <td>1</td>\n",
       "    </tr>\n",
       "    <tr>\n",
       "      <th>1</th>\n",
       "      <td>2</td>\n",
       "      <td>15647311</td>\n",
       "      <td>Hill</td>\n",
       "      <td>608</td>\n",
       "      <td>Spain</td>\n",
       "      <td>Female</td>\n",
       "      <td>41</td>\n",
       "      <td>1</td>\n",
       "      <td>83807.86</td>\n",
       "      <td>1</td>\n",
       "      <td>0</td>\n",
       "      <td>1</td>\n",
       "      <td>112542.58</td>\n",
       "      <td>0</td>\n",
       "    </tr>\n",
       "    <tr>\n",
       "      <th>2</th>\n",
       "      <td>3</td>\n",
       "      <td>15619304</td>\n",
       "      <td>Onio</td>\n",
       "      <td>502</td>\n",
       "      <td>France</td>\n",
       "      <td>Female</td>\n",
       "      <td>42</td>\n",
       "      <td>8</td>\n",
       "      <td>159660.80</td>\n",
       "      <td>3</td>\n",
       "      <td>1</td>\n",
       "      <td>0</td>\n",
       "      <td>113931.57</td>\n",
       "      <td>1</td>\n",
       "    </tr>\n",
       "    <tr>\n",
       "      <th>3</th>\n",
       "      <td>4</td>\n",
       "      <td>15701354</td>\n",
       "      <td>Boni</td>\n",
       "      <td>699</td>\n",
       "      <td>France</td>\n",
       "      <td>Female</td>\n",
       "      <td>39</td>\n",
       "      <td>1</td>\n",
       "      <td>0.00</td>\n",
       "      <td>2</td>\n",
       "      <td>0</td>\n",
       "      <td>0</td>\n",
       "      <td>93826.63</td>\n",
       "      <td>0</td>\n",
       "    </tr>\n",
       "    <tr>\n",
       "      <th>4</th>\n",
       "      <td>5</td>\n",
       "      <td>15737888</td>\n",
       "      <td>Mitchell</td>\n",
       "      <td>850</td>\n",
       "      <td>Spain</td>\n",
       "      <td>Female</td>\n",
       "      <td>43</td>\n",
       "      <td>2</td>\n",
       "      <td>125510.82</td>\n",
       "      <td>1</td>\n",
       "      <td>1</td>\n",
       "      <td>1</td>\n",
       "      <td>79084.10</td>\n",
       "      <td>0</td>\n",
       "    </tr>\n",
       "  </tbody>\n",
       "</table>\n",
       "</div>"
      ],
      "text/plain": [
       "   RowNumber  CustomerId   Surname  CreditScore Geography  Gender  Age  \\\n",
       "0          1    15634602  Hargrave          619    France  Female   42   \n",
       "1          2    15647311      Hill          608     Spain  Female   41   \n",
       "2          3    15619304      Onio          502    France  Female   42   \n",
       "3          4    15701354      Boni          699    France  Female   39   \n",
       "4          5    15737888  Mitchell          850     Spain  Female   43   \n",
       "\n",
       "   Tenure    Balance  NumOfProducts  HasCrCard  IsActiveMember  \\\n",
       "0       2       0.00              1          1               1   \n",
       "1       1   83807.86              1          0               1   \n",
       "2       8  159660.80              3          1               0   \n",
       "3       1       0.00              2          0               0   \n",
       "4       2  125510.82              1          1               1   \n",
       "\n",
       "   EstimatedSalary  Exited  \n",
       "0        101348.88       1  \n",
       "1        112542.58       0  \n",
       "2        113931.57       1  \n",
       "3         93826.63       0  \n",
       "4         79084.10       0  "
      ]
     },
     "execution_count": 2,
     "metadata": {},
     "output_type": "execute_result"
    }
   ],
   "source": [
    "# Importing the dataset\n",
    "dataset = pd.read_csv('Churn_Modelling.csv')\n",
    "X = dataset.iloc[:, 3:13].values\n",
    "y = dataset.iloc[:, 13].values\n",
    "dataset.head()"
   ]
  },
  {
   "cell_type": "code",
   "execution_count": 6,
   "metadata": {},
   "outputs": [
    {
     "name": "stdout",
     "output_type": "stream",
     "text": [
      "0.0 228.0\n",
      "[  0.00000000e+00   0.00000000e+00   2.28000000e+02   0.00000000e+00\n",
      "   4.20000000e+01   2.00000000e+00   0.00000000e+00   1.00000000e+00\n",
      "   1.00000000e+00   1.00000000e+00   1.01348880e+05]\n"
     ]
    }
   ],
   "source": [
    "# Encoding categorical data\n",
    "#print(X[:,1])\n",
    "print(X[0,0],X[0,2])\n",
    "from sklearn.preprocessing import LabelEncoder, OneHotEncoder\n",
    "labelencoder_X_1 = LabelEncoder()\n",
    "X[:, 1] = labelencoder_X_1.fit_transform(X[:, 1])\n",
    "#print(X[:,1])\n",
    "labelencoder_X_2 = LabelEncoder()\n",
    "X[:, 2] = labelencoder_X_2.fit_transform(X[:, 2])\n",
    "onehotencoder = OneHotEncoder(categorical_features = [1])\n",
    "X = onehotencoder.fit_transform(X).toarray()\n",
    "X = X[:, 1:]\n",
    "#print(X[:,1])\n",
    "print(X[0])"
   ]
  },
  {
   "cell_type": "code",
   "execution_count": 7,
   "metadata": {},
   "outputs": [
    {
     "name": "stdout",
     "output_type": "stream",
     "text": [
      "[  1.00000000e+00   0.00000000e+00   2.76000000e+02   0.00000000e+00\n",
      "   3.40000000e+01   5.00000000e+00   0.00000000e+00   2.00000000e+00\n",
      "   1.00000000e+00   0.00000000e+00   1.63830640e+05]\n"
     ]
    }
   ],
   "source": [
    "# Splitting the dataset into the Training set and Test set\n",
    "from sklearn.model_selection import train_test_split\n",
    "X_train, X_test, y_train, y_test = train_test_split(X, y, test_size = 0.2, random_state = 0)\n",
    "print(X_train[0])"
   ]
  },
  {
   "cell_type": "code",
   "execution_count": 8,
   "metadata": {
    "collapsed": true
   },
   "outputs": [],
   "source": [
    "# Feature Scaling\n",
    "from sklearn.preprocessing import StandardScaler\n",
    "sc = StandardScaler()\n",
    "X_train = sc.fit_transform(X_train)\n",
    "X_test = sc.transform(X_test)"
   ]
  },
  {
   "cell_type": "code",
   "execution_count": 9,
   "metadata": {},
   "outputs": [
    {
     "name": "stderr",
     "output_type": "stream",
     "text": [
      "Using TensorFlow backend.\n"
     ]
    }
   ],
   "source": [
    "# Importing the Keras libraries and packages\n",
    "import keras\n",
    "from keras.models import Sequential\n",
    "from keras.layers import Dense"
   ]
  },
  {
   "cell_type": "code",
   "execution_count": 10,
   "metadata": {
    "collapsed": true
   },
   "outputs": [],
   "source": [
    "# Initialising the ANN\n",
    "classifier = Sequential()"
   ]
  },
  {
   "cell_type": "code",
   "execution_count": 11,
   "metadata": {
    "collapsed": true
   },
   "outputs": [],
   "source": [
    "# Adding the input layer and the first hidden layer\n",
    "classifier.add(Dense(units= 6, kernel_initializer = 'uniform', activation = 'relu', input_dim = 11))"
   ]
  },
  {
   "cell_type": "code",
   "execution_count": 12,
   "metadata": {
    "collapsed": true
   },
   "outputs": [],
   "source": [
    "# Adding the second hidden layer\n",
    "classifier.add(Dense(units = 6, kernel_initializer = 'uniform', activation = 'relu'))"
   ]
  },
  {
   "cell_type": "code",
   "execution_count": 13,
   "metadata": {
    "collapsed": true
   },
   "outputs": [],
   "source": [
    "# Adding the output layer\n",
    "classifier.add(Dense(units = 1, kernel_initializer = 'uniform', activation = 'sigmoid'))"
   ]
  },
  {
   "cell_type": "code",
   "execution_count": 14,
   "metadata": {
    "collapsed": true
   },
   "outputs": [],
   "source": [
    "# Compiling the ANN\n",
    "classifier.compile(optimizer = 'adam', loss = 'binary_crossentropy', metrics = ['accuracy'])\n",
    "#'categorical_crossentropy' for classification with multiple classes"
   ]
  },
  {
   "cell_type": "code",
   "execution_count": 15,
   "metadata": {},
   "outputs": [
    {
     "name": "stdout",
     "output_type": "stream",
     "text": [
      "Epoch 1/100\n",
      "8000/8000 [==============================] - 1s - loss: 0.4830 - acc: 0.7959     \n",
      "Epoch 2/100\n",
      "8000/8000 [==============================] - 0s - loss: 0.4301 - acc: 0.7960     \n",
      "Epoch 3/100\n",
      "8000/8000 [==============================] - 0s - loss: 0.4260 - acc: 0.7960     \n",
      "Epoch 4/100\n",
      "8000/8000 [==============================] - 1s - loss: 0.4213 - acc: 0.8106     \n",
      "Epoch 5/100\n",
      "8000/8000 [==============================] - 0s - loss: 0.4178 - acc: 0.8242     \n",
      "Epoch 6/100\n",
      "8000/8000 [==============================] - 0s - loss: 0.4161 - acc: 0.8260     \n",
      "Epoch 7/100\n",
      "8000/8000 [==============================] - 1s - loss: 0.4143 - acc: 0.8295     \n",
      "Epoch 8/100\n",
      "8000/8000 [==============================] - 0s - loss: 0.4130 - acc: 0.8296     \n",
      "Epoch 9/100\n",
      "8000/8000 [==============================] - 0s - loss: 0.4113 - acc: 0.8301     \n",
      "Epoch 10/100\n",
      "8000/8000 [==============================] - 1s - loss: 0.4107 - acc: 0.8337     \n",
      "Epoch 11/100\n",
      "8000/8000 [==============================] - 0s - loss: 0.4096 - acc: 0.8342     \n",
      "Epoch 12/100\n",
      "8000/8000 [==============================] - 0s - loss: 0.4088 - acc: 0.8341     \n",
      "Epoch 13/100\n",
      "8000/8000 [==============================] - 0s - loss: 0.4076 - acc: 0.8339     \n",
      "Epoch 14/100\n",
      "8000/8000 [==============================] - 0s - loss: 0.4067 - acc: 0.8336     \n",
      "Epoch 15/100\n",
      "8000/8000 [==============================] - 0s - loss: 0.4068 - acc: 0.8340     \n",
      "Epoch 16/100\n",
      "8000/8000 [==============================] - 1s - loss: 0.4058 - acc: 0.8332     \n",
      "Epoch 17/100\n",
      "8000/8000 [==============================] - 0s - loss: 0.4058 - acc: 0.8346     \n",
      "Epoch 18/100\n",
      "8000/8000 [==============================] - 1s - loss: 0.4050 - acc: 0.8341     \n",
      "Epoch 19/100\n",
      "8000/8000 [==============================] - 1s - loss: 0.4050 - acc: 0.8362     \n",
      "Epoch 20/100\n",
      "8000/8000 [==============================] - 0s - loss: 0.4047 - acc: 0.8341     \n",
      "Epoch 21/100\n",
      "8000/8000 [==============================] - 1s - loss: 0.4046 - acc: 0.8335     \n",
      "Epoch 22/100\n",
      "8000/8000 [==============================] - 1s - loss: 0.4040 - acc: 0.8336     \n",
      "Epoch 23/100\n",
      "8000/8000 [==============================] - 0s - loss: 0.4042 - acc: 0.8335     \n",
      "Epoch 24/100\n",
      "8000/8000 [==============================] - 1s - loss: 0.4040 - acc: 0.8355     \n",
      "Epoch 25/100\n",
      "8000/8000 [==============================] - 0s - loss: 0.4033 - acc: 0.8336     \n",
      "Epoch 26/100\n",
      "8000/8000 [==============================] - 0s - loss: 0.4036 - acc: 0.8357     \n",
      "Epoch 27/100\n",
      "8000/8000 [==============================] - 0s - loss: 0.4033 - acc: 0.8337     - ETA: 0s - loss: 0.3993\n",
      "Epoch 28/100\n",
      "8000/8000 [==============================] - 0s - loss: 0.4030 - acc: 0.8335     \n",
      "Epoch 29/100\n",
      "8000/8000 [==============================] - 0s - loss: 0.4033 - acc: 0.8347     \n",
      "Epoch 30/100\n",
      "8000/8000 [==============================] - 0s - loss: 0.4028 - acc: 0.8346     \n",
      "Epoch 31/100\n",
      "8000/8000 [==============================] - 0s - loss: 0.4024 - acc: 0.8340     \n",
      "Epoch 32/100\n",
      "8000/8000 [==============================] - 0s - loss: 0.4022 - acc: 0.8342     \n",
      "Epoch 33/100\n",
      "8000/8000 [==============================] - 0s - loss: 0.4022 - acc: 0.8349     \n",
      "Epoch 34/100\n",
      "8000/8000 [==============================] - 0s - loss: 0.4024 - acc: 0.8347     \n",
      "Epoch 35/100\n",
      "8000/8000 [==============================] - 0s - loss: 0.4022 - acc: 0.8344     \n",
      "Epoch 36/100\n",
      "8000/8000 [==============================] - 0s - loss: 0.4021 - acc: 0.8345     \n",
      "Epoch 37/100\n",
      "8000/8000 [==============================] - 0s - loss: 0.4018 - acc: 0.8327     \n",
      "Epoch 38/100\n",
      "8000/8000 [==============================] - 0s - loss: 0.4022 - acc: 0.8355     \n",
      "Epoch 39/100\n",
      "8000/8000 [==============================] - 0s - loss: 0.4019 - acc: 0.8341     \n",
      "Epoch 40/100\n",
      "8000/8000 [==============================] - 0s - loss: 0.4013 - acc: 0.8359     \n",
      "Epoch 41/100\n",
      "8000/8000 [==============================] - 0s - loss: 0.4017 - acc: 0.8337     \n",
      "Epoch 42/100\n",
      "8000/8000 [==============================] - 0s - loss: 0.4016 - acc: 0.8349     \n",
      "Epoch 43/100\n",
      "8000/8000 [==============================] - 0s - loss: 0.4017 - acc: 0.8359     \n",
      "Epoch 44/100\n",
      "8000/8000 [==============================] - 0s - loss: 0.4016 - acc: 0.8341     \n",
      "Epoch 45/100\n",
      "8000/8000 [==============================] - 0s - loss: 0.4018 - acc: 0.8349     \n",
      "Epoch 46/100\n",
      "8000/8000 [==============================] - 0s - loss: 0.4011 - acc: 0.8345     \n",
      "Epoch 47/100\n",
      "8000/8000 [==============================] - 0s - loss: 0.4015 - acc: 0.8347     \n",
      "Epoch 48/100\n",
      "8000/8000 [==============================] - 0s - loss: 0.4014 - acc: 0.8345     \n",
      "Epoch 49/100\n",
      "8000/8000 [==============================] - 0s - loss: 0.4013 - acc: 0.8341     \n",
      "Epoch 50/100\n",
      "8000/8000 [==============================] - 0s - loss: 0.4011 - acc: 0.8339     \n",
      "Epoch 51/100\n",
      "8000/8000 [==============================] - 1s - loss: 0.4009 - acc: 0.8344     \n",
      "Epoch 52/100\n",
      "8000/8000 [==============================] - 0s - loss: 0.4009 - acc: 0.8365     \n",
      "Epoch 53/100\n",
      "8000/8000 [==============================] - 1s - loss: 0.4008 - acc: 0.8350     \n",
      "Epoch 54/100\n",
      "8000/8000 [==============================] - 0s - loss: 0.4004 - acc: 0.8342     \n",
      "Epoch 55/100\n",
      "8000/8000 [==============================] - 0s - loss: 0.4006 - acc: 0.8356     \n",
      "Epoch 56/100\n",
      "8000/8000 [==============================] - 0s - loss: 0.4004 - acc: 0.8371     \n",
      "Epoch 57/100\n",
      "8000/8000 [==============================] - 0s - loss: 0.3998 - acc: 0.8355     \n",
      "Epoch 58/100\n",
      "8000/8000 [==============================] - 0s - loss: 0.4002 - acc: 0.8341     \n",
      "Epoch 59/100\n",
      "8000/8000 [==============================] - 0s - loss: 0.4000 - acc: 0.8342     \n",
      "Epoch 60/100\n",
      "8000/8000 [==============================] - 0s - loss: 0.3998 - acc: 0.8340     \n",
      "Epoch 61/100\n",
      "8000/8000 [==============================] - 0s - loss: 0.3996 - acc: 0.8346     \n",
      "Epoch 62/100\n",
      "8000/8000 [==============================] - 0s - loss: 0.3997 - acc: 0.8350     \n",
      "Epoch 63/100\n",
      "8000/8000 [==============================] - 1s - loss: 0.3994 - acc: 0.8362     \n",
      "Epoch 64/100\n",
      "8000/8000 [==============================] - 1s - loss: 0.3995 - acc: 0.8340     \n",
      "Epoch 65/100\n",
      "8000/8000 [==============================] - 1s - loss: 0.3994 - acc: 0.8335     \n",
      "Epoch 66/100\n",
      "8000/8000 [==============================] - 1s - loss: 0.3990 - acc: 0.8341     \n",
      "Epoch 67/100\n",
      "8000/8000 [==============================] - 1s - loss: 0.3990 - acc: 0.8341     \n",
      "Epoch 68/100\n",
      "8000/8000 [==============================] - 0s - loss: 0.3990 - acc: 0.8354     \n",
      "Epoch 69/100\n",
      "8000/8000 [==============================] - 0s - loss: 0.3983 - acc: 0.8341     \n",
      "Epoch 70/100\n",
      "8000/8000 [==============================] - 1s - loss: 0.3987 - acc: 0.8351     \n",
      "Epoch 71/100\n",
      "8000/8000 [==============================] - 1s - loss: 0.3983 - acc: 0.8341     \n",
      "Epoch 72/100\n",
      "8000/8000 [==============================] - 0s - loss: 0.3981 - acc: 0.8355     \n",
      "Epoch 73/100\n",
      "8000/8000 [==============================] - 0s - loss: 0.3984 - acc: 0.8355     \n",
      "Epoch 74/100\n",
      "8000/8000 [==============================] - 0s - loss: 0.3974 - acc: 0.8342     \n",
      "Epoch 75/100\n",
      "8000/8000 [==============================] - 1s - loss: 0.3981 - acc: 0.8359     \n",
      "Epoch 76/100\n",
      "8000/8000 [==============================] - 0s - loss: 0.3975 - acc: 0.8350     \n",
      "Epoch 77/100\n",
      "8000/8000 [==============================] - 1s - loss: 0.3976 - acc: 0.8341     \n",
      "Epoch 78/100\n",
      "8000/8000 [==============================] - 0s - loss: 0.3976 - acc: 0.8346     \n",
      "Epoch 79/100\n",
      "8000/8000 [==============================] - 1s - loss: 0.3974 - acc: 0.8346     \n",
      "Epoch 80/100\n",
      "8000/8000 [==============================] - 1s - loss: 0.3970 - acc: 0.8351     \n",
      "Epoch 81/100\n",
      "8000/8000 [==============================] - 1s - loss: 0.3977 - acc: 0.8361     \n",
      "Epoch 82/100\n",
      "8000/8000 [==============================] - 1s - loss: 0.3971 - acc: 0.8362     \n",
      "Epoch 83/100\n",
      "8000/8000 [==============================] - 1s - loss: 0.3976 - acc: 0.8355     \n",
      "Epoch 84/100\n",
      "8000/8000 [==============================] - 1s - loss: 0.3971 - acc: 0.8335     \n",
      "Epoch 85/100\n",
      "8000/8000 [==============================] - 0s - loss: 0.3973 - acc: 0.8362     \n",
      "Epoch 86/100\n",
      "8000/8000 [==============================] - 0s - loss: 0.3975 - acc: 0.8357     \n",
      "Epoch 87/100\n"
     ]
    },
    {
     "name": "stdout",
     "output_type": "stream",
     "text": [
      "8000/8000 [==============================] - 0s - loss: 0.3965 - acc: 0.8347     \n",
      "Epoch 88/100\n",
      "8000/8000 [==============================] - 0s - loss: 0.3966 - acc: 0.8334     \n",
      "Epoch 89/100\n",
      "8000/8000 [==============================] - 0s - loss: 0.3968 - acc: 0.8366     \n",
      "Epoch 90/100\n",
      "8000/8000 [==============================] - 0s - loss: 0.3964 - acc: 0.8342     \n",
      "Epoch 91/100\n",
      "8000/8000 [==============================] - 0s - loss: 0.3966 - acc: 0.8350     \n",
      "Epoch 92/100\n",
      "8000/8000 [==============================] - 0s - loss: 0.3964 - acc: 0.8339     \n",
      "Epoch 93/100\n",
      "8000/8000 [==============================] - 1s - loss: 0.3955 - acc: 0.8352     \n",
      "Epoch 94/100\n",
      "8000/8000 [==============================] - 1s - loss: 0.3966 - acc: 0.8355     \n",
      "Epoch 95/100\n",
      "8000/8000 [==============================] - 1s - loss: 0.3966 - acc: 0.8345     \n",
      "Epoch 96/100\n",
      "8000/8000 [==============================] - 1s - loss: 0.3963 - acc: 0.8359     \n",
      "Epoch 97/100\n",
      "8000/8000 [==============================] - 1s - loss: 0.3958 - acc: 0.8345     \n",
      "Epoch 98/100\n",
      "8000/8000 [==============================] - 1s - loss: 0.3965 - acc: 0.8344     \n",
      "Epoch 99/100\n",
      "8000/8000 [==============================] - 1s - loss: 0.3965 - acc: 0.8342     \n",
      "Epoch 100/100\n",
      "8000/8000 [==============================] - 1s - loss: 0.3962 - acc: 0.8337     \n"
     ]
    },
    {
     "data": {
      "text/plain": [
       "<keras.callbacks.History at 0x7f80af0b14e0>"
      ]
     },
     "execution_count": 15,
     "metadata": {},
     "output_type": "execute_result"
    }
   ],
   "source": [
    "# Fitting the ANN to the Training set\n",
    "classifier.fit(X_train, y_train, batch_size = 10, epochs = 100)"
   ]
  },
  {
   "cell_type": "code",
   "execution_count": 16,
   "metadata": {},
   "outputs": [
    {
     "name": "stdout",
     "output_type": "stream",
     "text": [
      "[[False]\n",
      " [False]\n",
      " [False]\n",
      " [False]\n",
      " [False]\n",
      " [ True]\n",
      " [False]\n",
      " [False]\n",
      " [False]\n",
      " [ True]\n",
      " [False]\n",
      " [False]\n",
      " [False]\n",
      " [False]\n",
      " [False]\n",
      " [False]\n",
      " [False]\n",
      " [False]\n",
      " [False]\n",
      " [False]\n",
      " [False]\n",
      " [False]\n",
      " [False]\n",
      " [False]\n",
      " [False]\n",
      " [False]\n",
      " [False]\n",
      " [False]\n",
      " [False]\n",
      " [False]\n",
      " [False]\n",
      " [False]\n",
      " [False]\n",
      " [False]\n",
      " [False]\n",
      " [False]\n",
      " [False]\n",
      " [False]\n",
      " [False]\n",
      " [False]\n",
      " [False]\n",
      " [False]\n",
      " [False]\n",
      " [False]\n",
      " [False]\n",
      " [False]\n",
      " [False]\n",
      " [False]\n",
      " [False]\n",
      " [False]\n",
      " [ True]\n",
      " [False]\n",
      " [False]\n",
      " [False]\n",
      " [False]\n",
      " [False]\n",
      " [False]\n",
      " [False]\n",
      " [False]\n",
      " [False]\n",
      " [False]\n",
      " [False]\n",
      " [False]\n",
      " [False]\n",
      " [False]\n",
      " [ True]\n",
      " [False]\n",
      " [False]\n",
      " [False]\n",
      " [ True]\n",
      " [ True]\n",
      " [False]\n",
      " [False]\n",
      " [ True]\n",
      " [False]\n",
      " [False]\n",
      " [ True]\n",
      " [False]\n",
      " [False]\n",
      " [False]\n",
      " [ True]\n",
      " [False]\n",
      " [False]\n",
      " [False]\n",
      " [ True]\n",
      " [False]\n",
      " [False]\n",
      " [False]\n",
      " [False]\n",
      " [False]\n",
      " [False]\n",
      " [False]\n",
      " [False]\n",
      " [False]\n",
      " [False]\n",
      " [False]\n",
      " [False]\n",
      " [False]\n",
      " [False]\n",
      " [False]]\n",
      "[[1549   46]\n",
      " [ 266  139]]\n"
     ]
    }
   ],
   "source": [
    "# Part 3 - Making predictions and evaluating the model\n",
    "\n",
    "# Predicting the Test set results\n",
    "y_pred = classifier.predict(X_test)\n",
    "y_pred = (y_pred > 0.5)\n",
    "print(y_pred[:100])\n",
    "# Making the Confusion Matrix\n",
    "from sklearn.metrics import confusion_matrix\n",
    "cm = confusion_matrix(y_test, y_pred)\n",
    "print(cm)"
   ]
  },
  {
   "cell_type": "code",
   "execution_count": 17,
   "metadata": {},
   "outputs": [
    {
     "name": "stdout",
     "output_type": "stream",
     "text": [
      "0.844\n"
     ]
    }
   ],
   "source": [
    "#calculate accuracy\n",
    "acc=(cm[0][0]+cm[1][1])/2000\n",
    "print(acc)"
   ]
  },
  {
   "cell_type": "markdown",
   "metadata": {
    "collapsed": true
   },
   "source": [
    "## Homework Section"
   ]
  },
  {
   "cell_type": "code",
   "execution_count": 26,
   "metadata": {},
   "outputs": [
    {
     "name": "stdout",
     "output_type": "stream",
     "text": [
      "[[False]]\n",
      "[[1549   46]\n",
      " [ 266  139]]\n"
     ]
    }
   ],
   "source": [
    "# Predicting a single new observation\n",
    "\"\"\"Predict if the customer with the following informations will leave the bank:\n",
    "Geography: France\n",
    "Credit Score: 600\n",
    "Gender: Male\n",
    "Age: 40\n",
    "Tenure: 3\n",
    "Balance: 60000\n",
    "Number of Products: 2\n",
    "Has Credit Card: Yes\n",
    "Is Active Member: Yes\n",
    "Estimated Salary: 50000\"\"\"\n",
    "new_prediction = classifier.predict(sc.transform(np.array([[0.0, 0, 600, 1, 40, 3, 60000, 2, 1, 1, 50000]])))\n",
    "new_prediction = (new_prediction > 0.5)\n",
    "print(new_prediction)\n",
    "\n",
    "# Making the Confusion Matrix\n",
    "from sklearn.metrics import confusion_matrix\n",
    "cm = confusion_matrix(y_test, y_pred)\n",
    "print(cm)"
   ]
  },
  {
   "cell_type": "code",
   "execution_count": null,
   "metadata": {
    "collapsed": true
   },
   "outputs": [],
   "source": []
  }
 ],
 "metadata": {
  "kernelspec": {
   "display_name": "Python 3",
   "language": "python",
   "name": "python3"
  },
  "language_info": {
   "codemirror_mode": {
    "name": "ipython",
    "version": 3
   },
   "file_extension": ".py",
   "mimetype": "text/x-python",
   "name": "python",
   "nbconvert_exporter": "python",
   "pygments_lexer": "ipython3",
   "version": "3.6.1"
  }
 },
 "nbformat": 4,
 "nbformat_minor": 2
}
